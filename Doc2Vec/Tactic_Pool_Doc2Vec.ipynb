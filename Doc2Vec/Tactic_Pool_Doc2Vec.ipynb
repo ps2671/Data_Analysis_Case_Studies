{
 "cells": [
  {
   "cell_type": "code",
   "execution_count": 11,
   "metadata": {
    "collapsed": true
   },
   "outputs": [],
   "source": [
    "#df = pd.read_csv('data_nfr/non_lab_doc2vec_format.txt', sep='\\t', escapechar='\\\\', encoding = \"ISO-8859-1\")\n",
    "#dt = pd.read_csv('data_nfr/nfr_doc2vec_format.txt', sep='\\t', escapechar='\\\\', encoding = \"ISO-8859-1\")\n",
    "#df.to_csv(\"non_lab_doc2vec_format.txt\", sep='\\t', encoding='utf-8', index=False)\n",
    "#dt.to_csv(\"nfr_doc2vec_format.txt\", sep='\\t', encoding='utf-8', index=False)"
   ]
  },
  {
   "cell_type": "code",
   "execution_count": 1,
   "metadata": {},
   "outputs": [
    {
     "name": "stderr",
     "output_type": "stream",
     "text": [
      "Using TensorFlow backend.\n"
     ]
    }
   ],
   "source": [
    "# gensim modules\n",
    "from gensim import utils\n",
    "from gensim.models.doc2vec import LabeledSentence\n",
    "from gensim.models import Doc2Vec\n",
    "\n",
    "# numpy\n",
    "import numpy\n",
    "\n",
    "# random\n",
    "from random import shuffle\n",
    "\n",
    "# classifier\n",
    "from sklearn.linear_model import LogisticRegression"
   ]
  },
  {
   "cell_type": "code",
   "execution_count": 2,
   "metadata": {
    "collapsed": true
   },
   "outputs": [],
   "source": [
    "class LabeledLineSentence(object):\n",
    "    def __init__(self, sources):\n",
    "        self.sources = sources\n",
    "        \n",
    "        flipped = {}\n",
    "        \n",
    "        # make sure that keys are unique\n",
    "        for key, value in sources.items():\n",
    "            if value not in flipped:\n",
    "                flipped[value] = [key]\n",
    "            else:\n",
    "                raise Exception('Non-unique prefix encountered')\n",
    "    \n",
    "    def __iter__(self):\n",
    "        for source, prefix in self.sources.items():\n",
    "            with utils.smart_open(source) as fin:\n",
    "                for item_no, line in enumerate(fin):\n",
    "                    yield LabeledSentence(utils.to_unicode(line).split(), [prefix + '_%s' % item_no])\n",
    "    \n",
    "    def to_array(self):\n",
    "        self.sentences = []\n",
    "        for source, prefix in self.sources.items():\n",
    "            with utils.smart_open(source) as fin:\n",
    "                for item_no, line in enumerate(fin):\n",
    "                    self.sentences.append(LabeledSentence(utils.to_unicode(line).split(), [prefix + '_%s' % item_no]))\n",
    "        return self.sentences\n",
    "    \n",
    "    def sentences_perm(self):\n",
    "        shuffle(self.sentences)\n",
    "        return self.sentences"
   ]
  },
  {
   "cell_type": "code",
   "execution_count": 7,
   "metadata": {},
   "outputs": [],
   "source": [
    "sources = {'data_lib_pool/PO_domain_libs_CSV_2.txt':'DATA_DOMAIN', \n",
    "           'data_lib_pool/PO_tactic_libs_CSV_3.txt':'DATA_TACTIC', \n",
    "           'data_lib_pool/Unlabelled/boneCP.txt':'BONE_CP',\n",
    "           'data_lib_pool/Unlabelled/c3p0.txt':'C3_P0',\n",
    "           'data_lib_pool/Unlabelled/Commons DBCP.txt':'Commons_DBCP',\n",
    "           'data_lib_pool/Unlabelled/DbConnectionBroker.txt':'DbConnection_Broker',\n",
    "           'data_lib_pool/Unlabelled/DBPool.txt':'DBPool',\n",
    "           'data_lib_pool/Unlabelled/miniConnectionPoolManager.txt':'MiniConnection_PoolManager',\n",
    "           'data_lib_pool/Unlabelled/primrose.txt':'Primrose',\n",
    "           'data_lib_pool/Unlabelled/Proxool.txt':'Proxool',\n",
    "           'data_lib_pool/Unlabelled/smartpool.txt':'Smartpool'\n",
    "          }\n",
    "\n",
    "sentences = LabeledLineSentence(sources)"
   ]
  },
  {
   "cell_type": "code",
   "execution_count": 10,
   "metadata": {},
   "outputs": [],
   "source": [
    "model = Doc2Vec(alpha=0.025, min_alpha=0.025,min_count=1, window=10, size=100, sample=1e-4, negative=5, workers=8)\n",
    "\n",
    "model.build_vocab(sentences.to_array())"
   ]
  },
  {
   "cell_type": "code",
   "execution_count": 13,
   "metadata": {},
   "outputs": [],
   "source": [
    "for epoch in range(10):\n",
    "    model.train(sentences,total_examples=model.corpus_count,epochs=model.iter)\n",
    "    model.alpha -= 0.002  # decrease the learning rate\n",
    "    model.min_alpha = model.alpha  # fix the learning rate, no decay"
   ]
  },
  {
   "cell_type": "code",
   "execution_count": 14,
   "metadata": {
    "collapsed": true
   },
   "outputs": [],
   "source": [
    "model.save('models_lib_pool/lib_pool.d2v')"
   ]
  },
  {
   "cell_type": "code",
   "execution_count": 15,
   "metadata": {
    "collapsed": true
   },
   "outputs": [],
   "source": [
    "model = Doc2Vec.load('models_lib_pool/lib_pool.d2v')"
   ]
  },
  {
   "cell_type": "code",
   "execution_count": 52,
   "metadata": {
    "scrolled": true
   },
   "outputs": [
    {
     "name": "stdout",
     "output_type": "stream",
     "text": [
      "[('DATA_TACTIC_6694', 0.9935643076896667), ('DATA_TACTIC_43240', 0.9935141801834106), ('MiniConnection_PoolManager_0', 0.9930168390274048), ('DATA_TACTIC_24067', 0.9926599860191345), ('DATA_TACTIC_70779', 0.9925956726074219), ('DATA_TACTIC_95375', 0.992023766040802), ('DATA_TACTIC_22841', 0.9920196533203125), ('DATA_DOMAIN_46659', 0.9918712377548218), ('DATA_TACTIC_81200', 0.9916352033615112), ('DATA_TACTIC_116415', 0.9914083480834961)]\n"
     ]
    }
   ],
   "source": [
    "ms = model.docvecs.most_similar('DATA_DOMAIN_3132') \n",
    "print(ms)"
   ]
  },
  {
   "cell_type": "code",
   "execution_count": 25,
   "metadata": {
    "scrolled": true
   },
   "outputs": [],
   "source": [
    "import codecs\n",
    "test_docs=\"data_lib_pool/PO_domain_libs_CSV_2.txt\"\n",
    "output_file=\"data_lib_pool/data_domain_vectors.txt\"\n",
    "\n",
    "test_docs = [ x.strip().split() for x in codecs.open(test_docs, \"r\", \"utf-8\").readlines() ]\n",
    "\n",
    "#inference hyper-parameters\n",
    "start_alpha=0.01\n",
    "infer_epoch=1000\n",
    "\n",
    "#infer test vectors\n",
    "output = open(output_file, \"w\")\n",
    "for d in test_docs:\n",
    "    output.write( \" \".join([str(x) for x in model.infer_vector(d, alpha=start_alpha, steps=infer_epoch)]) + \"\\n\" )\n",
    "output.flush()\n",
    "output.close()"
   ]
  },
  {
   "cell_type": "code",
   "execution_count": null,
   "metadata": {
    "collapsed": true
   },
   "outputs": [],
   "source": []
  }
 ],
 "metadata": {
  "kernelspec": {
   "display_name": "Python 3",
   "language": "python",
   "name": "python3"
  },
  "language_info": {
   "codemirror_mode": {
    "name": "ipython",
    "version": 3
   },
   "file_extension": ".py",
   "mimetype": "text/x-python",
   "name": "python",
   "nbconvert_exporter": "python",
   "pygments_lexer": "ipython3",
   "version": "3.6.1"
  }
 },
 "nbformat": 4,
 "nbformat_minor": 2
}
